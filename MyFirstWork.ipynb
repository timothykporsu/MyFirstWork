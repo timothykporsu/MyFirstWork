{
  "nbformat": 4,
  "nbformat_minor": 0,
  "metadata": {
    "colab": {
      "provenance": [],
      "mount_file_id": "1rPrXQ3XRU8gVXFY0TlRGyQ2oXvHLPLT7",
      "authorship_tag": "ABX9TyMwpNuvTNFtITEdLO9Hyo48",
      "include_colab_link": true
    },
    "kernelspec": {
      "name": "python3",
      "display_name": "Python 3"
    },
    "language_info": {
      "name": "python"
    }
  },
  "cells": [
    {
      "cell_type": "markdown",
      "metadata": {
        "id": "view-in-github",
        "colab_type": "text"
      },
      "source": [
        "<a href=\"https://colab.research.google.com/github/timothykporsu/MyFirstWork/blob/main/MyFirstWork.ipynb\" target=\"_parent\"><img src=\"https://colab.research.google.com/assets/colab-badge.svg\" alt=\"Open In Colab\"/></a>"
      ]
    },
    {
      "cell_type": "code",
      "source": [
        "print(\"Hello World!\")"
      ],
      "metadata": {
        "colab": {
          "base_uri": "https://localhost:8080/"
        },
        "id": "Hg30weR3Z-iw",
        "outputId": "fbed60f0-4f05-49c6-979b-40929a33fa60"
      },
      "execution_count": null,
      "outputs": [
        {
          "output_type": "stream",
          "name": "stdout",
          "text": [
            "Hello World!\n"
          ]
        }
      ]
    },
    {
      "cell_type": "code",
      "source": [
        "print (\"I love Azubi Africa\")"
      ],
      "metadata": {
        "id": "-e2_Jv8xaHsl",
        "colab": {
          "base_uri": "https://localhost:8080/"
        },
        "outputId": "cf34dd8d-8ec8-44b5-f93b-33b6c79c4ea2"
      },
      "execution_count": 2,
      "outputs": [
        {
          "output_type": "stream",
          "name": "stdout",
          "text": [
            "I love Azubi Africa\n"
          ]
        }
      ]
    },
    {
      "cell_type": "code",
      "source": [
        "fav = 'I love Azubi Africa'\n",
        "print(fav)"
      ],
      "metadata": {
        "id": "9C4uPsuAYBN0",
        "colab": {
          "base_uri": "https://localhost:8080/"
        },
        "outputId": "68a1b93f-4712-4a41-9f6e-696650c0695a"
      },
      "execution_count": 3,
      "outputs": [
        {
          "output_type": "stream",
          "name": "stdout",
          "text": [
            "I love Azubi Africa\n"
          ]
        }
      ]
    },
    {
      "cell_type": "code",
      "source": [
        "first_name = 'Timothy'\n",
        "last_name = 'Kporsu'\n",
        "full_name = first_name + \" \" + last_name\n",
        "print(full_name)"
      ],
      "metadata": {
        "colab": {
          "base_uri": "https://localhost:8080/"
        },
        "id": "_Db3SafOYv9H",
        "outputId": "b6e29546-c816-43ce-b72c-08d6ff75feb3"
      },
      "execution_count": 17,
      "outputs": [
        {
          "output_type": "stream",
          "name": "stdout",
          "text": [
            "Timothy Kporsu\n"
          ]
        }
      ]
    },
    {
      "cell_type": "code",
      "source": [
        "print('My name is ' + first_name + \" \" + last_name)"
      ],
      "metadata": {
        "colab": {
          "base_uri": "https://localhost:8080/"
        },
        "id": "wH9JleAca0O3",
        "outputId": "dfdb9f61-c05a-43b0-d1ed-ee94c7beb5bb"
      },
      "execution_count": 18,
      "outputs": [
        {
          "output_type": "stream",
          "name": "stdout",
          "text": [
            "My name is Timothy Kporsu\n"
          ]
        }
      ]
    },
    {
      "cell_type": "code",
      "source": [
        "print('My name is ' + full_name)"
      ],
      "metadata": {
        "colab": {
          "base_uri": "https://localhost:8080/"
        },
        "id": "jkgqmQ7hcU9k",
        "outputId": "6355eed4-959f-4dd0-f2aa-65a9fcd1c026"
      },
      "execution_count": 19,
      "outputs": [
        {
          "output_type": "stream",
          "name": "stdout",
          "text": [
            "My name is Timothy Kporsu\n"
          ]
        }
      ]
    },
    {
      "cell_type": "code",
      "source": [
        "print(f'My name is {first_name} {last_name}')"
      ],
      "metadata": {
        "colab": {
          "base_uri": "https://localhost:8080/"
        },
        "id": "sOzbs2bFfaeV",
        "outputId": "b59bb6ae-3f32-4491-a66a-285b372e0c47"
      },
      "execution_count": 20,
      "outputs": [
        {
          "output_type": "stream",
          "name": "stdout",
          "text": [
            "My name is Timothy Kporsu\n"
          ]
        }
      ]
    },
    {
      "cell_type": "code",
      "source": [
        "school = 'Accra Academy'\n",
        "print('My name is'+' '+full_name+' '+'and I attend'+' '+school)"
      ],
      "metadata": {
        "colab": {
          "base_uri": "https://localhost:8080/"
        },
        "id": "UbVWlYaQgHJB",
        "outputId": "3b267f4d-eedc-40e7-926d-a331853cfee8"
      },
      "execution_count": 24,
      "outputs": [
        {
          "output_type": "stream",
          "name": "stdout",
          "text": [
            "My name is Timothy Kporsu and I attend Accra Academy\n"
          ]
        }
      ]
    },
    {
      "cell_type": "code",
      "source": [
        "age = 28\n",
        "print(f'Hi, Mr John. My name is {full_name}. I am {age}, and I attend {school}.')"
      ],
      "metadata": {
        "colab": {
          "base_uri": "https://localhost:8080/"
        },
        "id": "F-OtOsRFg-1D",
        "outputId": "42e74e0f-6ef1-40f4-c97f-78a87043b6d2"
      },
      "execution_count": 27,
      "outputs": [
        {
          "output_type": "stream",
          "name": "stdout",
          "text": [
            "Hi, Mr John. My name is Timothy Kporsu. I am 28, and I attend Accra Academy.\n"
          ]
        }
      ]
    },
    {
      "cell_type": "markdown",
      "source": [
        "##Final Project\n"
      ],
      "metadata": {
        "id": "eynx1t2Yj972"
      }
    },
    {
      "cell_type": "code",
      "source": [
        "name = input('Hey there, please enter your name: ')\n",
        "print(name)"
      ],
      "metadata": {
        "colab": {
          "base_uri": "https://localhost:8080/"
        },
        "id": "X0O12ATLkAzZ",
        "outputId": "d009f8ec-3af0-47b4-a429-f4628156fec6"
      },
      "execution_count": 30,
      "outputs": [
        {
          "output_type": "stream",
          "name": "stdout",
          "text": [
            "Hey there, please enter your name: Timothy Kporsu\n",
            "Timothy Kporsu\n"
          ]
        }
      ]
    },
    {
      "cell_type": "code",
      "source": [
        "age = input('Now please enter your age: ')\n",
        "print(age)"
      ],
      "metadata": {
        "colab": {
          "base_uri": "https://localhost:8080/"
        },
        "id": "4pf31poOkkxQ",
        "outputId": "dd3f89f7-30af-400d-9d0a-71e2abdf3148"
      },
      "execution_count": 31,
      "outputs": [
        {
          "output_type": "stream",
          "name": "stdout",
          "text": [
            "Now please enter your age: 26\n",
            "26\n"
          ]
        }
      ]
    },
    {
      "cell_type": "code",
      "source": [
        "print(f'Hey {name}, you are {age} years old.')"
      ],
      "metadata": {
        "colab": {
          "base_uri": "https://localhost:8080/"
        },
        "id": "2eWcFZCblbRo",
        "outputId": "2a35d6f1-06e9-4d9e-9a83-c9b9ef04c4b3"
      },
      "execution_count": 32,
      "outputs": [
        {
          "output_type": "stream",
          "name": "stdout",
          "text": [
            "Hey Timothy Kporsu, you are 26 years old.\n"
          ]
        }
      ]
    },
    {
      "cell_type": "code",
      "source": [],
      "metadata": {
        "id": "uBkcynqSlt6j"
      },
      "execution_count": null,
      "outputs": []
    }
  ]
}